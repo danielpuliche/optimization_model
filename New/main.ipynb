{
 "cells": [
  {
   "cell_type": "code",
   "execution_count": 1,
   "id": "1b5f87bf",
   "metadata": {},
   "outputs": [],
   "source": [
    "import re\n",
    "from Modelos.base_model import base_model\n",
    "from Modelos.serie_model import serie_model\n",
    "from Modelos.parallel_model import parallel_model\n",
    "from Modelos.hibrid_model import hibrid_model\n",
    "from utils.utils import mostrarResultadosTabla"
   ]
  },
  {
   "cell_type": "code",
   "execution_count": 2,
   "id": "a8aa0e62",
   "metadata": {},
   "outputs": [
    {
     "name": "stdout",
     "output_type": "stream",
     "text": [
      "Restricted license - for non-production use only - expires 2026-11-23\n"
     ]
    }
   ],
   "source": [
    "N = 11\n",
    "L = 10\n",
    "c_values = {0: 5, 1: 12, 2: 20}\n",
    "confiabilidad_values = {0: 0.9, 1: 0.95, 2: 0.99}\n",
    "modeloBase = base_model(N, c_values)"
   ]
  },
  {
   "cell_type": "code",
   "execution_count": 3,
   "id": "02b45e4b",
   "metadata": {},
   "outputs": [
    {
     "name": "stdout",
     "output_type": "stream",
     "text": [
      "====================================================\n",
      "Cantidad de Nodos: 11\n",
      "====================================================\n",
      "Resultado de la Optimización:\n",
      "====================================================\n",
      "Costo Total: 155.0\n",
      "Costo nodos: 55.0\n",
      "Costo enlaces: 100.0\n",
      "====================================================\n",
      "Nodos activos (x):\n",
      "    Low Cost  Mid Cost  High Cost\n",
      "1          1         0          0\n",
      "2          1         0          0\n",
      "3          1         0          0\n",
      "4          1         0          0\n",
      "5          1         0          0\n",
      "6          1         0          0\n",
      "7          1         0          0\n",
      "8          1         0          0\n",
      "9          1         0          0\n",
      "10         1         0          0\n",
      "11         1         0          0\n",
      "====================================================\n"
     ]
    }
   ],
   "source": [
    "# Crear y optimizar el modelo en serie\n",
    "try:\n",
    "    costoSerie, variablesDecisionSerie, modeloSerie = serie_model(modeloBase, N, L)\n",
    "    mostrarResultadosTabla(N, costoSerie, variablesDecisionSerie)\n",
    "except Exception as e:\n",
    "    print(f\"Error: {e}\")"
   ]
  },
  {
   "cell_type": "code",
   "execution_count": 4,
   "id": "fcb8e96a",
   "metadata": {},
   "outputs": [
    {
     "name": "stdout",
     "output_type": "stream",
     "text": [
      "====================================================\n",
      "Cantidad de Nodos: 11\n",
      "====================================================\n",
      "Resultado de la Optimización:\n",
      "====================================================\n",
      "Costo Total: 605.0\n",
      "Costo nodos: 55.0\n",
      "Costo enlaces: 550.0\n",
      "====================================================\n",
      "Nodos activos (x):\n",
      "    Low Cost  Mid Cost  High Cost\n",
      "1          1         0          0\n",
      "2          1         0          0\n",
      "3          1         0          0\n",
      "4          1         0          0\n",
      "5          1         0          0\n",
      "6          1         0          0\n",
      "7          1         0          0\n",
      "8          1         0          0\n",
      "9          1         0          0\n",
      "10         1         0          0\n",
      "11         1         0          0\n",
      "====================================================\n"
     ]
    }
   ],
   "source": [
    "# Crear y optimizar el modelo en paralelo\n",
    "try:\n",
    "    costoParalelo, variablesDecisionParalelo, modeloParalelo = parallel_model(modeloBase, N, L)\n",
    "    mostrarResultadosTabla(N, costoParalelo, variablesDecisionParalelo)\n",
    "except Exception as e:\n",
    "    print(f\"Error: {e}\")"
   ]
  },
  {
   "cell_type": "code",
   "execution_count": 5,
   "id": "9c13fb6c",
   "metadata": {},
   "outputs": [
    {
     "name": "stdout",
     "output_type": "stream",
     "text": [
      "====================================================\n",
      "Cantidad de Nodos: 11\n",
      "====================================================\n",
      "Resultado de la Optimización:\n",
      "====================================================\n",
      "Costo Total: 165.0\n",
      "Costo nodos: 55.0\n",
      "Costo enlaces: 110.0\n",
      "====================================================\n",
      "Nodos activos (x):\n",
      "    Low Cost  Mid Cost  High Cost\n",
      "1          1         0          0\n",
      "2          1         0          0\n",
      "3          1         0          0\n",
      "4          1         0          0\n",
      "5          1         0          0\n",
      "6          1         0          0\n",
      "7          1         0          0\n",
      "8          1         0          0\n",
      "9          1         0          0\n",
      "10         1         0          0\n",
      "11         1         0          0\n",
      "====================================================\n",
      "Nodos activos (y):\n",
      "    Subred 0  Subred 1  Subred 2  Subred 3\n",
      "1          0         0         1         0\n",
      "2          1         0         0         0\n",
      "3          0         0         1         0\n",
      "4          1         0         0         0\n",
      "5          0         0         1         0\n",
      "6          1         0         0         0\n",
      "7          1         0         0         0\n",
      "8          1         0         0         0\n",
      "9          1         0         0         0\n",
      "10         1         0         0         0\n",
      "11         1         0         0         0\n",
      "====================================================\n"
     ]
    }
   ],
   "source": [
    "# Crear y optimizar el modelo híbrido\n",
    "try:\n",
    "    costoHibrido, variablesDecisionHibrido, modeloHibrido = hibrid_model(modeloBase, N, L)\n",
    "    mostrarResultadosTabla(N, costoHibrido, variablesDecisionHibrido, \"hibrido\")\n",
    "except Exception as e:\n",
    "    print(f\"Error: {e}\")"
   ]
  }
 ],
 "metadata": {
  "kernelspec": {
   "display_name": "base",
   "language": "python",
   "name": "python3"
  },
  "language_info": {
   "codemirror_mode": {
    "name": "ipython",
    "version": 3
   },
   "file_extension": ".py",
   "mimetype": "text/x-python",
   "name": "python",
   "nbconvert_exporter": "python",
   "pygments_lexer": "ipython3",
   "version": "3.12.7"
  }
 },
 "nbformat": 4,
 "nbformat_minor": 5
}
