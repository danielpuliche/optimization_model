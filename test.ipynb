{
 "cells": [
  {
   "cell_type": "markdown",
   "id": "a8e5c244",
   "metadata": {},
   "source": [
    "# Inicializar"
   ]
  },
  {
   "cell_type": "code",
   "execution_count": 8,
   "id": "1b5f87bf",
   "metadata": {},
   "outputs": [],
   "source": [
    "import gurobipy as gp\n",
    "from gurobipy import GRB\n",
    "import os\n",
    "import re\n",
    "import pandas as pd"
   ]
  },
  {
   "cell_type": "code",
   "execution_count": 9,
   "id": "7333a66d",
   "metadata": {},
   "outputs": [],
   "source": [
    "# Mostrar el modelo\n",
    "def displayModel(model,name):\n",
    "    try:\n",
    "        os.remove(name)\n",
    "    except OSError:\n",
    "        pass\n",
    "    model.write(name) # Escribir el modelo a un archivo .lp\n",
    "    model.display()"
   ]
  },
  {
   "cell_type": "code",
   "execution_count": 10,
   "id": "1b308479",
   "metadata": {},
   "outputs": [],
   "source": [
    "L = 10\n",
    "I = range(3) # 0: Low, 1: Medium, 2: High\n",
    "c_values = {0: 5, 1: 12, 2: 20}"
   ]
  },
  {
   "cell_type": "code",
   "execution_count": 11,
   "id": "1324d553",
   "metadata": {},
   "outputs": [],
   "source": [
    "def mostrarResultadosTabla(cantidadNodos, costo, variablesDecision):\n",
    "\n",
    "\tif costo is None:\n",
    "\t\tprint(\"====================================================\")\n",
    "\t\tprint(\"Cantidad de Nodos: \", cantidadNodos)\n",
    "\t\tprint(\"====================================================\")\n",
    "\t\tprint(\"No se encontró solución\")\n",
    "\telse:\n",
    "\t\tprint(\"====================================================\")\n",
    "\t\tprint(\"Cantidad de Nodos: \", cantidadNodos)\n",
    "\t\tprint(\"====================================================\")\n",
    "\t\tprint(\"Resultado de la Optimización:\")\n",
    "\t\tprint(\"====================================================\")\n",
    "\t\tprint(\"Costo Total: \", costo)\n",
    "\t\tprint(\"Nodos activos: \\n\")\n",
    "\n",
    "\t\txVars = dict()\n",
    "\t\tyVars = dict()\n",
    "\t\tzVars = dict()\n",
    "\t\tfor var in variablesDecision.keys():\n",
    "\t\t\tif var.startswith(\"x\"):\n",
    "\t\t\t\txVars[var] = variablesDecision[var]\n",
    "\t\t\tif var.startswith(\"y\"):\n",
    "\t\t\t\tyVars[var] = variablesDecision[var]\n",
    "\t\t\tif var.startswith(\"z\"):\n",
    "\t\t\t\tzVars[var] = variablesDecision[var]\n",
    "\n",
    "\t\txactiveNodes = []\n",
    "\t\tyactiveNodes = []\n",
    "\t\tzactiveNodes = []\n",
    "\t\tfor u in range(cantidadNodos):\n",
    "\t\t\tvaloresx = []\n",
    "\t\t\tvaloresy = []\n",
    "\t\t\tvaloresz = []\n",
    "\t\t\tpatternx = re.compile(r'^x\\[' + str(u) + r',')\n",
    "\t\t\tpatterny = re.compile(r'^y\\[' + str(u) + r',')\n",
    "\t\t\tpatternz = re.compile(r'^z\\[' + str(u) + r',')\n",
    "\t\t\tfor var in xVars.keys():\n",
    "\t\t\t\tif patternx.match(var):\n",
    "\t\t\t\t\tvaloresx.append(int(xVars[var]))\n",
    "\t\t\tfor var in yVars.keys():\n",
    "\t\t\t\tif patterny.match(var):\n",
    "\t\t\t\t\tvaloresy.append(int(yVars[var]))\n",
    "\t\t\tfor var in zVars.keys():\n",
    "\t\t\t\tif patternz.match(var):\n",
    "\t\t\t\t\tvaloresz.append(int(zVars[var]))\n",
    "\t\t\txactiveNodes.append(valoresx)\n",
    "\t\t\tyactiveNodes.append(valoresy)\n",
    "\t\t\tzactiveNodes.append(valoresz)\n",
    "\n",
    "\t\tcolumns_titles_x = [\"Low Cost\", \"Mid Cost\", \"High Cost\"]\n",
    "\t\tcolumns_titles_y = [\"Series\", \"Paralelo\"]\n",
    "\t\trow_index = [u+1 for u in range(cantidadNodos)]\n",
    "\n",
    "\t\ttablax = pd.DataFrame(\n",
    "\t\t\txactiveNodes, columns=columns_titles_x, index=row_index)\n",
    "\t\ttablay = pd.DataFrame(\n",
    "\t\t\tyactiveNodes, columns=columns_titles_y, index=row_index)\n",
    "\t\ttablaz = pd.DataFrame(\n",
    "\t\t\tzactiveNodes, index=row_index)\n",
    "\t\tprint(tablax)\n",
    "\t\tprint(tablay)\n",
    "\t\tprint(tablaz)\n",
    "\t\tprint(\"====================================================\")"
   ]
  },
  {
   "cell_type": "markdown",
   "id": "0d5823e5",
   "metadata": {},
   "source": [
    "# Modelo base"
   ]
  },
  {
   "cell_type": "code",
   "execution_count": 12,
   "id": "9e6c2c74",
   "metadata": {},
   "outputs": [],
   "source": [
    "def base_model(N):\n",
    "\n",
    "\tif N < 4:\n",
    "\t\traise ValueError(\"El número de nodos debe ser al menos 4.\")\n",
    "\n",
    "\tmodel = gp.Model(f\"General_Model_{N}_Nodos\")\n",
    "\n",
    "\t# Parámetros\n",
    "\tU = range(N) # Nodos a desplegar\n",
    "\n",
    "\t#####################################################################\n",
    "\n",
    "\t# Variables de decisión\n",
    "\tx = model.addVars(U, I, vtype=GRB.BINARY, name=\"x\") # Variable de decisión para el tipo de nodos\n",
    "\n",
    "\t# Variables auxiliares\n",
    "\tnodesCost = model.addVar(vtype=GRB.CONTINUOUS, name=\"nodesCost\") # Costo de los nodos desplegados\n",
    "\tmodel.addConstr(nodesCost == gp.quicksum(c_values[i] * x[u, i] for i in I for u in U), name=\"NodesCost_def\")\n",
    "\n",
    "\tlinksCost = model.addVar(vtype=GRB.CONTINUOUS, name=\"linksCost\")\n",
    "\tmodel.addConstr(linksCost == 0, name=\"LinksCost_General\") # Costo de los enlaces para el modelo general 0\n",
    "\n",
    "\t#####################################################################\n",
    "\n",
    "\t# Restricción de unicidad de nodos: cada nodo puede ser de un solo tipo\n",
    "\tmodel.addConstrs(\n",
    "\t\t(gp.quicksum(x[u, i] for i in I) == 1 for u in U), name=\"Unicidad_i\"\n",
    "\t)\n",
    "\n",
    "\t#####################################################################\n",
    "\n",
    "\tmodel.setParam('OutputFlag', 0)  # No mostrar salida por defecto de Gurobi\n",
    "\tmodel.setObjective(nodesCost+linksCost, GRB.MINIMIZE)\n",
    "\n",
    "\tmodel.optimize()\n",
    "\n",
    "\treturn model"
   ]
  },
  {
   "cell_type": "markdown",
   "id": "0f5637f4",
   "metadata": {},
   "source": [
    "# Modelos heredados"
   ]
  },
  {
   "cell_type": "code",
   "execution_count": 13,
   "id": "3a1a6460",
   "metadata": {},
   "outputs": [],
   "source": [
    "def serie_model(model_base, N):\n",
    "\n",
    "\tU = range(N)\n",
    "\n",
    "\t# Copiar el modelo base\n",
    "\tmodel = model_base.copy()\n",
    "\n",
    "\t############################################################\n",
    "\n",
    "\t# Recuperar variables\n",
    "\tx = { tuple(map(int, var.varName.split('[')[1].split(']')[0].split(','))): var for var in model.getVars() if \"x\" in var.varName }\n",
    "\n",
    "\t############################################################\n",
    "\n",
    "\tN_s = model.addVar(vtype=GRB.INTEGER, name=\"N_s\") # Número de nodos en serie\n",
    "\tmodel.addConstr(N_s == gp.quicksum(x[u, i] for u in U for i in I), name=\"Ns_def\") # Número de nodos en serie\n",
    "\n",
    "\t############################################################\n",
    "\n",
    "\t# Actualizar restricciones de costos de enlaces\n",
    "\tlinksCost_Condition = model.getConstrByName(\"LinksCost_General\")\n",
    "\tif linksCost_Condition is not None:\n",
    "\t\tmodel.remove(linksCost_Condition)\n",
    "\n",
    "\tlinksCost = model.getVarByName(\"linksCost\")\n",
    "\tif linksCost is None:\n",
    "\t\traise ValueError(\"No se encontró la variable de costo de enlaces.\")\n",
    "\n",
    "\tmodel.addConstr(linksCost == L*(N_s-1), name=\"LinksCost_Serie\") # Costo de los enlaces en serie\n",
    "\n",
    "\t# Optimizar el modelo\n",
    "\tmodel.optimize()\n",
    "\n",
    "\tif model.status == GRB.OPTIMAL:\n",
    "\t\tvariablesDecision = {var.varName: var.x for var in model.getVars()}\n",
    "\t\treturn model.objVal, variablesDecision\n",
    "\telse:\n",
    "\t\traise Exception(\"No se encontró una solución óptima.\")"
   ]
  },
  {
   "cell_type": "code",
   "execution_count": 15,
   "id": "8ef2cb18",
   "metadata": {},
   "outputs": [
    {
     "name": "stdout",
     "output_type": "stream",
     "text": [
      "====================================================\n",
      "Modelo en Serie\n",
      "Costo Total:  65.0\n",
      "====================================================\n",
      "Resultados de la Optimización:\n",
      "x[0,0] : 1.0\n",
      "x[0,1] : 0.0\n",
      "x[0,2] : 0.0\n",
      "x[1,0] : 1.0\n",
      "x[1,1] : 0.0\n",
      "x[1,2] : 0.0\n",
      "x[2,0] : 1.0\n",
      "x[2,1] : 0.0\n",
      "x[2,2] : 0.0\n",
      "x[3,0] : 1.0\n",
      "x[3,1] : 0.0\n",
      "x[3,2] : 0.0\n",
      "x[4,0] : 1.0\n",
      "x[4,1] : 0.0\n",
      "x[4,2] : 0.0\n",
      "nodesCost : 25.0\n",
      "linksCost : 40.0\n",
      "N_s : 5.0\n"
     ]
    }
   ],
   "source": [
    "N = 5 # Número de nodos a desplegar\n",
    "\n",
    "modeloGeneral = base_model(N)\n",
    "costoSerie, variablesSerie = serie_model(modeloGeneral, N)\n",
    "print(\"====================================================\")\n",
    "print(\"Modelo en Serie\")\n",
    "print(\"Costo Total: \", costoSerie)\n",
    "print(\"====================================================\")\n",
    "print(\"Resultados de la Optimización:\")\n",
    "for var in variablesSerie.keys():\n",
    "    print(var, \":\", variablesSerie[var])"
   ]
  },
  {
   "cell_type": "code",
   "execution_count": 7,
   "id": "bd642fca",
   "metadata": {},
   "outputs": [],
   "source": [
    "def parallel_model(model_base, N):\n",
    "\t\"\"\"\n",
    "\tConvierte un modelo base híbrido en un modelo solo paralelo.\n",
    "\n",
    "\tArgs:\n",
    "\t\tmodel_base: Modelo base híbrido (Gurobi Model).\n",
    "\t\tN: Número de nodos (debe ser un entero mayor o igual a 3).\n",
    "\n",
    "\tReturns:\n",
    "\t\tobjVal: Valor óptimo de la función objetivo.\n",
    "\t\tvariablesDecision: Diccionario con los valores de las variables de decisión.\n",
    "\n",
    "\tRaises:\n",
    "\t\tValueError: Si N es menor a 3 o no es un entero.\n",
    "\t\tException: Si no se encuentra una solución óptima.\n",
    "\t\"\"\"\n",
    "\tif not isinstance(N, int) or N < 3:\n",
    "\t\traise ValueError(\"El modelo solo paralelo requiere al menos 3 nodos.\")\n",
    "\n",
    "\tU = range(N)\n",
    "\n",
    "\t# Copiar el modelo base\n",
    "\tmodel = model_base.copy()\n",
    "\n",
    "\t# Agregar restricciones específicas del modelo paralelo\n",
    "\tN_s = model.getVarByName(\"N_s\")  # Obtener variable N_s del modelo base\n",
    "\tif N_s is None:\n",
    "\t\traise ValueError(\"La variable N_s no se encontró en el modelo base.\")\n",
    "\tmodel.addConstr(N_s == 0, name=\"Solo_Paralelo\")  # Número de nodos en serie igual a 0\n",
    "\n",
    "\t# Asegurar que todos los nodos pertenezcan a la subred 1\n",
    "\tz = {tuple(map(int, var.varName.split('[')[1].split(']')[0].split(','))): var\n",
    "\t\t for var in model.getVars() if \"z\" in var.varName}\n",
    "\tmodel.addConstrs(\n",
    "\t\t(z[u, 1] == 1 for u in U), name=\"Una_Subred\"\n",
    "\t)\n",
    "\n",
    "\t# Optimizar el modelo\n",
    "\tmodel.optimize()\n",
    "\n",
    "\tif model.status == GRB.OPTIMAL:\n",
    "\t\tvariablesDecision = {var.varName: var.x for var in model.getVars()}\n",
    "\t\treturn model.objVal, variablesDecision\n",
    "\telse:\n",
    "\t\traise Exception(\"No se encontró una solución óptima.\")"
   ]
  },
  {
   "cell_type": "code",
   "execution_count": 8,
   "id": "cd913189",
   "metadata": {},
   "outputs": [],
   "source": [
    "def hibrid_model(model_base, N, L):\n",
    "\n",
    "\tif N < 3:\n",
    "\t\traise ValueError(\"El número de nodos debe ser al menos 3.\")\n",
    "\n",
    "\tU = range(N) # Nodos a desplegar\n",
    "\tW = range(2) # 0: Serie, 1: Paralelo\n",
    "\tSubredes = N // 3 # Número de subredes a desplegar\n",
    "\tJ = range(Subredes + 1) # Subredes a desplegar\n",
    "\n",
    "\t#################################################################\n",
    "\n",
    "\t# Copiar el modelo base\n",
    "\tmodel = model_base.copy() # Copiar el modelo base\n",
    "\n",
    "\t#############################################################\n",
    "\n",
    "\ty = model.addVars(U, W, vtype=GRB.BINARY, name=\"y\") # Variable de decisión para el tipo de enlaces\n",
    "\tz = model.addVars(U, J, vtype=GRB.BINARY, name=\"z\") # Variable de decisión para el tipo de subredes\n",
    "\n",
    "\t#####################################################################\n",
    "\n",
    "\t# Variables auxiliares\n",
    "\tN_s = model.addVar(vtype=GRB.INTEGER, name=\"N_s\") # Número de nodos en serie\n",
    "\tN_p = model.addVar(vtype=GRB.INTEGER, name=\"N_p\") # Número de nodos en paralelo\n",
    "\tk = model.addVar(vtype=GRB.INTEGER, name=\"k\") # Variable auxiliar\n",
    "\tdelta_Np = model.addVar(vtype=GRB.BINARY, name=\"delta_Np\") # Variable binaria delta de kronecker\n",
    "\talpha = model.addVars(J, vtype=GRB.BINARY, name=\"alpha\") # Variables auxiliares para indicar si la subred j (j >= 1) está activa\n",
    "\n",
    "\tmodel.addConstr(N_s == gp.quicksum(y[u, 0] for u in U), name=\"Ns_def\") # Número de nodos en serie\n",
    "\tmodel.addConstr(N_p == gp.quicksum(y[u, 1] for u in U), name=\"Np_def\") # Número de nodos en paralelo\n",
    "\tmodel.addConstr(k * 2 == N_p * (N_p - 1), name=\"Quadratic_Exact\") # Restricción cuadrática exacta\n",
    "\tmodel.addGenConstrIndicator(delta_Np, True, N_p == 0, name=\"Kronecker_1\") # Restricción de Kronecker si Np == 0 -> delta_Np = 1\n",
    "\tmodel.addGenConstrIndicator(delta_Np, False, N_p >= 1, name=\"Kronecker_0\") # Restricción de Kronecker si Np >= 1 -> delta_Np = 0\n",
    "\tmodel.addConstrs((alpha[j] >= z[u, j] for u in U for j in J if j > 0), name=\"Activar_Subred\") # Activar subredes\n",
    "\n",
    "\t####################################################################\n",
    "\n",
    "\t# Restricción de unicidad de enlaces: cada nodo puede ser de un solo tipo\n",
    "\tmodel.addConstrs(\n",
    "\t\t(gp.quicksum(y[u, w] for w in W) == 1 for u in U), name=\"Unicidad_w\"\n",
    "\t)\n",
    "\n",
    "\t# Restricción de unicidad de subredes: cada nodo puede ser de un solo tipo\n",
    "\tmodel.addConstrs(\n",
    "\t\t(gp.quicksum(z[u, j] for j in J) == 1 for u in U), name=\"Unicidad_j\"\n",
    "\t)\n",
    "\n",
    "\t# 🔴 Esta restricción solo aplica en el modelo híbrido\n",
    "\tmodel.addConstr(N_p >= 3, name=\"Np_Condition\") # Número de nodos en paralelo mínimo\n",
    "\n",
    "\t# Cada nodo serie pertenece a la subred 0\n",
    "\tmodel.addConstrs(\n",
    "\t\t(y[u, 0] == z[u, 0] for u in U),\n",
    "\t\tname=\"Serie_en_Subred_0\"\n",
    "\t)\n",
    "\n",
    "\t# Restricción: Si la subred j >= 1 existe, debe tener al menos 3 nodos\n",
    "\tmodel.addConstrs(\n",
    "\t\t(gp.quicksum(z[u, j] for u in U) >= 3 * alpha[j] for j in J if j > 0),\n",
    "\t\tname=\"Subredes_Min_3\"\n",
    "\t)\n",
    "\n",
    "\t#####################################################################\n",
    "\n",
    "\t# Costos de la red\n",
    "\tLinksCost = L * (N_s + k - delta_Np) # Costo de los enlaces desplegados\n",
    "\tmodel.setObjective(nodesCost, GRB.MINIMIZE)\n",
    "\n",
    "\tmodel.optimize()\n",
    "\n",
    "\tif model.status == GRB.OPTIMAL:\n",
    "\t\tvariablesDecision = dict()\n",
    "\t\tfor var in model.getVars():\n",
    "\t\t\tvariablesDecision[var.varName] = var.x\n",
    "\t\treturn model.objVal, variablesDecision, model\n",
    "\telse:\n",
    "\t\traise Exception(\"No se encontró una solución óptima.\")"
   ]
  },
  {
   "cell_type": "markdown",
   "id": "9398bb6c",
   "metadata": {},
   "source": [
    "# Pruebas"
   ]
  },
  {
   "cell_type": "code",
   "execution_count": 9,
   "id": "a8aa0e62",
   "metadata": {},
   "outputs": [],
   "source": [
    "N = 4"
   ]
  },
  {
   "cell_type": "markdown",
   "id": "b493c115",
   "metadata": {},
   "source": [
    "## Serie"
   ]
  },
  {
   "cell_type": "code",
   "execution_count": 10,
   "id": "bf9ef8c2",
   "metadata": {},
   "outputs": [
    {
     "name": "stdout",
     "output_type": "stream",
     "text": [
      "<gurobi.Model Continuous instance General_Model_4_Nodos_copy: 0 constrs, 0 vars, Parameter changes: OutputFlag=0>\n",
      "Error: cannot unpack non-iterable NoneType object\n"
     ]
    }
   ],
   "source": [
    "try:\n",
    "\tmodeloBase = base_model(N)\n",
    "\tcostoSerie, variablesDecisionSerie = serie_model(modeloBase, N)\n",
    "\tprint(\"=====================================================\")\n",
    "\tprint(\"\\nModelo solo serie\")\n",
    "\tprint(\"Costo: \", costoSerie)\n",
    "\tprint(\"=====================================================\")\n",
    "\tprint(\"\\nResultados:\")\n",
    "\tfor var in variablesDecisionSerie.keys():\n",
    "\t\tprint(var, \":\", variablesDecisionSerie[var])\n",
    "except Exception as e:\n",
    "\tprint(f\"Error: {e}\")"
   ]
  },
  {
   "cell_type": "markdown",
   "id": "7a302871",
   "metadata": {},
   "source": [
    "## Paralelo"
   ]
  },
  {
   "cell_type": "code",
   "execution_count": 11,
   "id": "8d55453d",
   "metadata": {},
   "outputs": [
    {
     "name": "stdout",
     "output_type": "stream",
     "text": [
      "Error: name 'modeloHibrido' is not defined\n"
     ]
    }
   ],
   "source": [
    "try:\n",
    "\tcostoParalelo, variablesDecisionParalelo = parallel_model(modeloHibrido, N)\n",
    "\tprint(\"\\nModelo solo paralelo\")\n",
    "\tmostrarResultadosTabla(N, costoParalelo, variablesDecisionParalelo)\n",
    "except Exception as e:\n",
    "\tprint(f\"Error: {e}\")"
   ]
  },
  {
   "cell_type": "markdown",
   "id": "deb84691",
   "metadata": {},
   "source": [
    "## Hibrido"
   ]
  },
  {
   "cell_type": "code",
   "execution_count": 12,
   "id": "82f96992",
   "metadata": {},
   "outputs": [
    {
     "name": "stdout",
     "output_type": "stream",
     "text": [
      "Error: cannot unpack non-iterable Model object\n"
     ]
    }
   ],
   "source": [
    "try:\n",
    "\tcostoHibrido, variablesDecisionHibrido, modeloHibrido = base_model(N)\n",
    "\tprint(\"Modelo híbrido\")\n",
    "\tmostrarResultadosTabla(N, costoHibrido, variablesDecisionHibrido)\n",
    "except Exception as e:\n",
    "\tprint(f\"Error: {e}\")"
   ]
  }
 ],
 "metadata": {
  "kernelspec": {
   "display_name": "base",
   "language": "python",
   "name": "python3"
  },
  "language_info": {
   "codemirror_mode": {
    "name": "ipython",
    "version": 3
   },
   "file_extension": ".py",
   "mimetype": "text/x-python",
   "name": "python",
   "nbconvert_exporter": "python",
   "pygments_lexer": "ipython3",
   "version": "3.12.7"
  }
 },
 "nbformat": 4,
 "nbformat_minor": 5
}
