{
 "cells": [
  {
   "cell_type": "markdown",
   "id": "a8e5c244",
   "metadata": {},
   "source": [
    "# Inicializar"
   ]
  },
  {
   "cell_type": "code",
   "execution_count": 1,
   "id": "1b5f87bf",
   "metadata": {},
   "outputs": [],
   "source": [
    "import gurobipy as gp\n",
    "from gurobipy import GRB\n",
    "import os\n",
    "import re\n",
    "import pandas as pd"
   ]
  },
  {
   "cell_type": "code",
   "execution_count": null,
   "id": "7333a66d",
   "metadata": {},
   "outputs": [],
   "source": [
    "# Mostrar el modelo\n",
    "def displayModel(model):\n",
    "  try:\n",
    "      os.remove(\"General_Model.lp\")\n",
    "  except OSError:\n",
    "      pass\n",
    "  model.write(\"General_Model.lp\") # Escribir el modelo a un archivo .lp\n",
    "  model.display()"
   ]
  },
  {
   "cell_type": "markdown",
   "id": "0d5823e5",
   "metadata": {},
   "source": [
    "# Modelo base"
   ]
  },
  {
   "cell_type": "code",
   "execution_count": 3,
   "id": "9e6c2c74",
   "metadata": {},
   "outputs": [
    {
     "name": "stdout",
     "output_type": "stream",
     "text": [
      "Restricted license - for non-production use only - expires 2026-11-23\n"
     ]
    }
   ],
   "source": [
    "N = 5\n",
    "\n",
    "def base_model(N):\n",
    "    if N < 4:\n",
    "        raise ValueError(\"El modelo híbrido requiere al menos 4 nodos (mínimo 3 paralelo, 1 serie).\")\n",
    "\n",
    "    model = gp.Model(f\"General_Model_{N}_Nodos\")\n",
    "\n",
    "    # Parámetros\n",
    "    I = range(3) # 0: Low, 1: Medium, 2: High\n",
    "    U = range(N) # Nodos a desplegar\n",
    "    W = range(2) # 0: Serie, 1: Paralelo\n",
    "\n",
    "    L = 10\n",
    "    c_values = {0: 5, 1: 12, 2: 20}\n",
    "\n",
    "    # Variables\n",
    "    x = model.addVars(U, I, W, vtype=GRB.BINARY, name=\"x\") # Variable de decisión\n",
    "\n",
    "    # Variables auxiliares\n",
    "    N_s = model.addVar(vtype=GRB.INTEGER, name=\"N_s\") # Número de nodos en serie\n",
    "    N_p = model.addVar(vtype=GRB.INTEGER, name=\"N_p\") # Número de nodos en paralelo\n",
    "    z = model.addVar(vtype=GRB.INTEGER, name=\"z\") # Variable auxiliar\n",
    "    delta_Np = model.addVar(vtype=GRB.BINARY, name=\"delta_Np\") # Variable binaria delta de kronecker\n",
    "\n",
    "    \"\"\"Restricciones comunes\"\"\"\n",
    "\n",
    "    # Restricciones de unicidad para i y w\n",
    "    model.addConstrs(\n",
    "        (gp.quicksum(x[u, i, w] for i in I for w in W) == 1 for u in U), name=\"Unicidad_iw\"\n",
    "    )\n",
    "\n",
    "    model.addConstr(N_s == gp.quicksum(x[u, i, 0] for i in I for u in U), name=\"Ns_def\") # Número de nodos en serie\n",
    "    model.addConstr(N_p == gp.quicksum(x[u, i, 1] for i in I for u in U), name=\"Np_def\") # Número de nodos en paralelo\n",
    "    model.addConstr(z * 2 == N_p * (N_p - 1), name=\"Quadratic_Exact\") # Restricción cuadrática exacta\n",
    "\n",
    "    # Restricción del delta de Kronecker: Si Np == 0 → delta_Np = 1, sino delta_Np = 0\n",
    "    model.addGenConstrIndicator(delta_Np, True, N_p == 0, name=\"Kronecker_1\")\n",
    "    model.addGenConstrIndicator(delta_Np, False, N_p >= 1, name=\"Kronecker_0\")\n",
    "\n",
    "    # 🔴 Esta restricción solo aplica en el modelo híbrido\n",
    "    model.addConstr(N_p >= 3, name=\"Np_Condition\") # Número de nodos en paralelo mínimo\n",
    "\n",
    "    NodesCost = gp.quicksum(c_values[i] * x[u, i, w] for i in I for u in U for w in W) # Costo de los nodos desplegados\n",
    "    LinksCost = L * (N_s + z - delta_Np) # Costo de los enlaces desplegados\n",
    "    # LinksCost = 0\n",
    "    model.setObjective(NodesCost + LinksCost, GRB.MINIMIZE)\n",
    "\n",
    "    #####\n",
    "\n",
    "    displayModel(model) # Mostrar el modelo\n",
    "    # model.setParam('OutputFlag', 0)  # No mostrar salida por defecto de Gurobi\n",
    "\n",
    "    model.optimize()\n",
    "\n",
    "    if model.status == GRB.OPTIMAL:\n",
    "        variablesDecision = dict()\n",
    "        for var in model.getVars():\n",
    "            variablesDecision[var.varName] = var.x\n",
    "        return model.objVal, variablesDecision\n",
    "    else:\n",
    "        raise Exception(\"No se encontró una solución óptima.\")"
   ]
  },
  {
   "cell_type": "markdown",
   "id": "abaa24ac",
   "metadata": {},
   "source": [
    "# Pruebas"
   ]
  },
  {
   "cell_type": "code",
   "execution_count": null,
   "id": "b2580ae1",
   "metadata": {},
   "outputs": [
    {
     "name": "stdout",
     "output_type": "stream",
     "text": [
      "Gurobi Optimizer version 12.0.0 build v12.0.0rc1 (win64 - Windows 11.0 (26100.2))\n",
      "\n",
      "CPU model: 12th Gen Intel(R) Core(TM) i5-12500H, instruction set [SSE2|AVX|AVX2]\n",
      "Thread count: 12 physical cores, 16 logical processors, using up to 16 threads\n",
      "\n",
      "Optimize a model with 8 rows, 34 columns and 63 nonzeros\n",
      "Model fingerprint: 0x74a0c1e5\n",
      "Model has 1 quadratic constraint\n",
      "Model has 2 simple general constraints\n",
      "  2 INDICATOR\n",
      "Variable types: 0 continuous, 34 integer (31 binary)\n",
      "Coefficient statistics:\n",
      "  Matrix range     [1e+00, 1e+00]\n",
      "  QMatrix range    [1e+00, 1e+00]\n",
      "  QLMatrix range   [1e+00, 2e+00]\n",
      "  Objective range  [5e+00, 2e+01]\n",
      "  Bounds range     [1e+00, 1e+00]\n",
      "  RHS range        [1e+00, 3e+00]\n",
      "  GenCon rhs range [1e+00, 1e+00]\n",
      "  GenCon coe range [1e+00, 1e+00]\n",
      "Presolve removed 8 rows and 32 columns\n",
      "Presolve time: 0.00s\n",
      "Presolved: 3 rows, 3 columns, 6 nonzeros\n",
      "Presolved model has 1 bilinear constraint(s)\n",
      "\n",
      "Solving non-convex MIQCP\n",
      "\n",
      "Variable types: 1 continuous, 2 integer (0 binary)\n",
      "\n",
      "Root relaxation: objective 7.500000e+01, 0 iterations, 0.00 seconds (0.00 work units)\n",
      "\n",
      "    Nodes    |    Current Node    |     Objective Bounds      |     Work\n",
      " Expl Unexpl |  Obj  Depth IntInf | Incumbent    BestBd   Gap | It/Node Time\n",
      "\n",
      "*    0     0               0      75.0000000   75.00000  0.00%     -    2s\n",
      "\n",
      "Explored 1 nodes (0 simplex iterations) in 2.18 seconds (0.00 work units)\n",
      "Thread count was 16 (of 16 available processors)\n",
      "\n",
      "Solution count 1: 75 \n",
      "\n",
      "Optimal solution found (tolerance 1.00e-04)\n",
      "Best objective 7.500000000000e+01, best bound 7.500000000000e+01, gap 0.0000%\n",
      "Variables de decisión:\n",
      "x[0,0,0]: 1.0\n",
      "x[0,0,1]: 0.0\n",
      "x[0,1,0]: 0.0\n",
      "x[0,1,1]: 0.0\n",
      "x[0,2,0]: 0.0\n",
      "x[0,2,1]: 0.0\n",
      "x[1,0,0]: 1.0\n",
      "x[1,0,1]: 0.0\n",
      "x[1,1,0]: 0.0\n",
      "x[1,1,1]: 0.0\n",
      "x[1,2,0]: 0.0\n",
      "x[1,2,1]: 0.0\n",
      "x[2,0,0]: 0.0\n",
      "x[2,0,1]: 1.0\n",
      "x[2,1,0]: 0.0\n",
      "x[2,1,1]: 0.0\n",
      "x[2,2,0]: 0.0\n",
      "x[2,2,1]: 0.0\n",
      "x[3,0,0]: 0.0\n",
      "x[3,0,1]: 1.0\n",
      "x[3,1,0]: 0.0\n",
      "x[3,1,1]: 0.0\n",
      "x[3,2,0]: 0.0\n",
      "x[3,2,1]: 0.0\n",
      "x[4,0,0]: 0.0\n",
      "x[4,0,1]: 1.0\n",
      "x[4,1,0]: 0.0\n",
      "x[4,1,1]: 0.0\n",
      "x[4,2,0]: 0.0\n",
      "x[4,2,1]: 0.0\n",
      "N_s: 2.0\n",
      "N_p: 3.0\n",
      "z: 3.0\n",
      "delta_Np: 0.0\n",
      "Objetivo: 75.0\n"
     ]
    }
   ],
   "source": [
    "try:\n",
    "    costo, variablesDecision = base_model(N)\n",
    "    print(f\"Objetivo: {costo}\")\n",
    "    print(\"Variables de decisión:\")\n",
    "    for varName, value in variablesDecision.items():\n",
    "        print(f\"{varName}: {value}\")\n",
    "except Exception as e:\n",
    "    print(f\"Error: {e}\")"
   ]
  },
  {
   "cell_type": "markdown",
   "id": "0f5637f4",
   "metadata": {},
   "source": [
    "# Modelos heredados"
   ]
  },
  {
   "cell_type": "code",
   "execution_count": 9,
   "id": "3a1a6460",
   "metadata": {},
   "outputs": [],
   "source": [
    "# This class implements a series-only model by removing the hybrid constraint.\n",
    "# It sets N_p to 0, meaning all nodes are in series.\n",
    "class SerieModel(GeneralModel):\n",
    "    def __init__(self, N):\n",
    "        if N < 2:\n",
    "            raise ValueError(\"El modelo solo serie requiere al menos 2 nodos.\")\n",
    "        super().__init__(N)\n",
    "        self.model.remove(self.model.getConstrByName(\"Np_Condition\"))  # 🚨 Remover restricción híbrida\n",
    "        self.model.addConstr(self.N_p == 0, name=\"Solo_Serie\")"
   ]
  },
  {
   "cell_type": "code",
   "execution_count": 10,
   "id": "bd642fca",
   "metadata": {},
   "outputs": [],
   "source": [
    "# This class implements a parallel-only model by removing the hybrid constraint.\n",
    "# It sets N_s to 0, meaning all nodes are in parallel.\n",
    "class ParaleloModel(GeneralModel):\n",
    "    def __init__(self, N):\n",
    "        if N < 3:\n",
    "            raise ValueError(\"El modelo solo paralelo requiere al menos 3 nodos.\")\n",
    "        super().__init__(N)\n",
    "        self.model.addConstr(self.N_s == 0, name=\"Solo_Paralelo\")"
   ]
  }
 ],
 "metadata": {
  "kernelspec": {
   "display_name": "base",
   "language": "python",
   "name": "python3"
  },
  "language_info": {
   "codemirror_mode": {
    "name": "ipython",
    "version": 3
   },
   "file_extension": ".py",
   "mimetype": "text/x-python",
   "name": "python",
   "nbconvert_exporter": "python",
   "pygments_lexer": "ipython3",
   "version": "3.12.7"
  }
 },
 "nbformat": 4,
 "nbformat_minor": 5
}
